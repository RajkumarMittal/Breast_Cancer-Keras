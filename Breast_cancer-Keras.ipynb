{
 "cells": [
  {
   "cell_type": "code",
   "execution_count": 29,
   "metadata": {},
   "outputs": [],
   "source": [
    "from keras.models import Sequential\n",
    "from keras.layers import Dense"
   ]
  },
  {
   "cell_type": "code",
   "execution_count": 30,
   "metadata": {},
   "outputs": [],
   "source": [
    "# Step1 Creating Model\n",
    "model = Sequential()"
   ]
  },
  {
   "cell_type": "code",
   "execution_count": 31,
   "metadata": {},
   "outputs": [],
   "source": [
    "# Step2 Architecture\n",
    "layer1 = Dense(units=32, activation = 'relu', input_dim = 30)\n",
    "model.add(layer1)\n",
    "model.add(Dense(units=16, activation='relu'))\n",
    "model.add(Dense(units=1, activation='sigmoid'))"
   ]
  },
  {
   "cell_type": "code",
   "execution_count": 32,
   "metadata": {},
   "outputs": [],
   "source": [
    "# Step3 Complie\n",
    "model.compile(optimizer='adam', loss='binary_crossentropy', metrics=['accuracy'])"
   ]
  },
  {
   "cell_type": "code",
   "execution_count": 33,
   "metadata": {},
   "outputs": [],
   "source": [
    "# Step4 Fit\n",
    "from sklearn import datasets\n",
    "cancer = datasets.load_breast_cancer()\n",
    "\n",
    "from sklearn.model_selection import train_test_split\n",
    "x_train, x_test, y_train, y_test = train_test_split(cancer.data, cancer.target, test_size=0.2, random_state=0)\n",
    "\n",
    "from sklearn.preprocessing import StandardScaler\n",
    "sc = StandardScaler()\n",
    "x_train = sc.fit_transform(x_train)\n",
    "x_test = sc.transform(x_test)"
   ]
  },
  {
   "cell_type": "code",
   "execution_count": 34,
   "metadata": {},
   "outputs": [
    {
     "name": "stdout",
     "output_type": "stream",
     "text": [
      "Train on 455 samples, validate on 114 samples\n",
      "Epoch 1/20\n",
      "455/455 [==============================] - 0s 786us/step - loss: 0.7717 - accuracy: 0.4088 - val_loss: 0.6490 - val_accuracy: 0.5789\n",
      "Epoch 2/20\n",
      "455/455 [==============================] - 0s 77us/step - loss: 0.5463 - accuracy: 0.7407 - val_loss: 0.4623 - val_accuracy: 0.8509\n",
      "Epoch 3/20\n",
      "455/455 [==============================] - 0s 97us/step - loss: 0.4074 - accuracy: 0.9143 - val_loss: 0.3445 - val_accuracy: 0.9123\n",
      "Epoch 4/20\n",
      "455/455 [==============================] - 0s 67us/step - loss: 0.3072 - accuracy: 0.9495 - val_loss: 0.2658 - val_accuracy: 0.9035\n",
      "Epoch 5/20\n",
      "455/455 [==============================] - 0s 63us/step - loss: 0.2355 - accuracy: 0.9538 - val_loss: 0.2154 - val_accuracy: 0.9211\n",
      "Epoch 6/20\n",
      "455/455 [==============================] - 0s 76us/step - loss: 0.1870 - accuracy: 0.9560 - val_loss: 0.1839 - val_accuracy: 0.9298\n",
      "Epoch 7/20\n",
      "455/455 [==============================] - 0s 70us/step - loss: 0.1556 - accuracy: 0.9604 - val_loss: 0.1635 - val_accuracy: 0.9298\n",
      "Epoch 8/20\n",
      "455/455 [==============================] - 0s 77us/step - loss: 0.1345 - accuracy: 0.9670 - val_loss: 0.1489 - val_accuracy: 0.9298\n",
      "Epoch 9/20\n",
      "455/455 [==============================] - 0s 76us/step - loss: 0.1196 - accuracy: 0.9670 - val_loss: 0.1384 - val_accuracy: 0.9386\n",
      "Epoch 10/20\n",
      "455/455 [==============================] - 0s 79us/step - loss: 0.1090 - accuracy: 0.9670 - val_loss: 0.1290 - val_accuracy: 0.9474\n",
      "Epoch 11/20\n",
      "455/455 [==============================] - 0s 75us/step - loss: 0.1007 - accuracy: 0.9692 - val_loss: 0.1214 - val_accuracy: 0.9474\n",
      "Epoch 12/20\n",
      "455/455 [==============================] - 0s 73us/step - loss: 0.0943 - accuracy: 0.9736 - val_loss: 0.1155 - val_accuracy: 0.9474\n",
      "Epoch 13/20\n",
      "455/455 [==============================] - 0s 74us/step - loss: 0.0888 - accuracy: 0.9714 - val_loss: 0.1108 - val_accuracy: 0.9386\n",
      "Epoch 14/20\n",
      "455/455 [==============================] - 0s 77us/step - loss: 0.0847 - accuracy: 0.9714 - val_loss: 0.1058 - val_accuracy: 0.9474\n",
      "Epoch 15/20\n",
      "455/455 [==============================] - 0s 73us/step - loss: 0.0814 - accuracy: 0.9714 - val_loss: 0.1025 - val_accuracy: 0.9474\n",
      "Epoch 16/20\n",
      "455/455 [==============================] - 0s 81us/step - loss: 0.0780 - accuracy: 0.9780 - val_loss: 0.0989 - val_accuracy: 0.9386\n",
      "Epoch 17/20\n",
      "455/455 [==============================] - 0s 75us/step - loss: 0.0749 - accuracy: 0.9780 - val_loss: 0.0960 - val_accuracy: 0.9474\n",
      "Epoch 18/20\n",
      "455/455 [==============================] - 0s 77us/step - loss: 0.0712 - accuracy: 0.9802 - val_loss: 0.0930 - val_accuracy: 0.9561\n",
      "Epoch 19/20\n",
      "455/455 [==============================] - 0s 80us/step - loss: 0.0691 - accuracy: 0.9824 - val_loss: 0.0899 - val_accuracy: 0.9649\n",
      "Epoch 20/20\n",
      "455/455 [==============================] - 0s 82us/step - loss: 0.0665 - accuracy: 0.9824 - val_loss: 0.0883 - val_accuracy: 0.9649\n"
     ]
    },
    {
     "data": {
      "text/plain": [
       "<keras.callbacks.callbacks.History at 0x7f9a1301bc50>"
      ]
     },
     "execution_count": 34,
     "metadata": {},
     "output_type": "execute_result"
    }
   ],
   "source": [
    "model.fit(x_train, y_train, epochs=20, batch_size=50, validation_data=(x_test, y_test))"
   ]
  },
  {
   "cell_type": "code",
   "execution_count": 35,
   "metadata": {},
   "outputs": [
    {
     "name": "stdout",
     "output_type": "stream",
     "text": [
      "114/114 [==============================] - 0s 56us/step\n"
     ]
    },
    {
     "data": {
      "text/plain": [
       "[0.08830263557141288, 0.9649122953414917]"
      ]
     },
     "execution_count": 35,
     "metadata": {},
     "output_type": "execute_result"
    }
   ],
   "source": [
    "# Step 5 prediction and evaluate\n",
    "pred = model.predict(x_test)\n",
    "score = model.evaluate(x_test, y_test)\n",
    "score"
   ]
  },
  {
   "cell_type": "code",
   "execution_count": null,
   "metadata": {},
   "outputs": [],
   "source": []
  }
 ],
 "metadata": {
  "kernelspec": {
   "display_name": "Python 3",
   "language": "python",
   "name": "python3"
  },
  "language_info": {
   "codemirror_mode": {
    "name": "ipython",
    "version": 3
   },
   "file_extension": ".py",
   "mimetype": "text/x-python",
   "name": "python",
   "nbconvert_exporter": "python",
   "pygments_lexer": "ipython3",
   "version": "3.7.6"
  }
 },
 "nbformat": 4,
 "nbformat_minor": 4
}
