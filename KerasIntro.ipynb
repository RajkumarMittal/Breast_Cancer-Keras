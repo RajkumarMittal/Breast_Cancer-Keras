{
 "cells": [
  {
   "cell_type": "code",
   "execution_count": 7,
   "metadata": {},
   "outputs": [],
   "source": [
    "from keras.models import Sequential\n",
    "from keras.layers import Dense"
   ]
  },
  {
   "cell_type": "code",
   "execution_count": 8,
   "metadata": {},
   "outputs": [],
   "source": [
    "# Step 1\n",
    "# Creating a Model\n",
    "model = Sequential()"
   ]
  },
  {
   "cell_type": "code",
   "execution_count": 9,
   "metadata": {},
   "outputs": [],
   "source": [
    "# Step 2\n",
    "# Architecture\n",
    "layer1 = Dense(units=32, activation = 'relu', input_dim = 30)\n",
    "# We have pass the shape of input layer which is 30 in this case.\n",
    "model.add(layer1)\n",
    "model.add(Dense(units=16, activation = 'relu'))\n",
    "model.add(Dense(units=1, activation = \"sigmoid\"))\n",
    "# Output layer has 1 unit coz we know answer going to be Binary classification"
   ]
  },
  {
   "cell_type": "code",
   "execution_count": 10,
   "metadata": {},
   "outputs": [],
   "source": [
    "# Step 3 \n",
    "# Compile\n",
    "model.compile(optimizer='adam', loss='binary_crossentropy', metrics=['accuracy'])"
   ]
  },
  {
   "cell_type": "code",
   "execution_count": 11,
   "metadata": {},
   "outputs": [],
   "source": [
    "# Step 4\n",
    "# Fit\n",
    "from sklearn import datasets\n",
    "cancer = datasets.load_breast_cancer()\n",
    "from sklearn.model_selection import train_test_split\n",
    "\n",
    "x_train, x_test, y_train, y_test = train_test_split(cancer.data, cancer.target, test_size=0.2, random_state=0)\n",
    "\n",
    "from sklearn.preprocessing import StandardScaler\n",
    "\n",
    "sc = StandardScaler()\n",
    "x_train = sc.fit_transform(x_train)\n",
    "x_test = sc.transform(x_test)"
   ]
  },
  {
   "cell_type": "code",
   "execution_count": 12,
   "metadata": {},
   "outputs": [
    {
     "name": "stdout",
     "output_type": "stream",
     "text": [
      "Train on 455 samples, validate on 114 samples\n",
      "Epoch 1/20\n",
      "455/455 [==============================] - 0s 682us/step - loss: 0.9539 - accuracy: 0.2110 - val_loss: 0.7921 - val_accuracy: 0.3333\n",
      "Epoch 2/20\n",
      "455/455 [==============================] - 0s 84us/step - loss: 0.6976 - accuracy: 0.5385 - val_loss: 0.5756 - val_accuracy: 0.7807\n",
      "Epoch 3/20\n",
      "455/455 [==============================] - 0s 79us/step - loss: 0.5130 - accuracy: 0.8527 - val_loss: 0.4281 - val_accuracy: 0.9035\n",
      "Epoch 4/20\n",
      "455/455 [==============================] - 0s 77us/step - loss: 0.3823 - accuracy: 0.9341 - val_loss: 0.3319 - val_accuracy: 0.9298\n",
      "Epoch 5/20\n",
      "455/455 [==============================] - 0s 63us/step - loss: 0.2981 - accuracy: 0.9516 - val_loss: 0.2694 - val_accuracy: 0.9386\n",
      "Epoch 6/20\n",
      "455/455 [==============================] - 0s 91us/step - loss: 0.2399 - accuracy: 0.9582 - val_loss: 0.2278 - val_accuracy: 0.9386\n",
      "Epoch 7/20\n",
      "455/455 [==============================] - 0s 61us/step - loss: 0.2003 - accuracy: 0.9604 - val_loss: 0.1990 - val_accuracy: 0.9386\n",
      "Epoch 8/20\n",
      "455/455 [==============================] - 0s 71us/step - loss: 0.1718 - accuracy: 0.9648 - val_loss: 0.1771 - val_accuracy: 0.9474\n",
      "Epoch 9/20\n",
      "455/455 [==============================] - 0s 63us/step - loss: 0.1514 - accuracy: 0.9670 - val_loss: 0.1614 - val_accuracy: 0.9474\n",
      "Epoch 10/20\n",
      "455/455 [==============================] - 0s 77us/step - loss: 0.1356 - accuracy: 0.9692 - val_loss: 0.1491 - val_accuracy: 0.9474\n",
      "Epoch 11/20\n",
      "455/455 [==============================] - 0s 67us/step - loss: 0.1235 - accuracy: 0.9714 - val_loss: 0.1390 - val_accuracy: 0.9561\n",
      "Epoch 12/20\n",
      "455/455 [==============================] - 0s 70us/step - loss: 0.1132 - accuracy: 0.9714 - val_loss: 0.1304 - val_accuracy: 0.9561\n",
      "Epoch 13/20\n",
      "455/455 [==============================] - 0s 74us/step - loss: 0.1049 - accuracy: 0.9780 - val_loss: 0.1240 - val_accuracy: 0.9561\n",
      "Epoch 14/20\n",
      "455/455 [==============================] - 0s 73us/step - loss: 0.0977 - accuracy: 0.9802 - val_loss: 0.1180 - val_accuracy: 0.9561\n",
      "Epoch 15/20\n",
      "455/455 [==============================] - 0s 70us/step - loss: 0.0922 - accuracy: 0.9780 - val_loss: 0.1127 - val_accuracy: 0.9561\n",
      "Epoch 16/20\n",
      "455/455 [==============================] - 0s 88us/step - loss: 0.0868 - accuracy: 0.9780 - val_loss: 0.1090 - val_accuracy: 0.9561\n",
      "Epoch 17/20\n",
      "455/455 [==============================] - 0s 72us/step - loss: 0.0826 - accuracy: 0.9802 - val_loss: 0.1060 - val_accuracy: 0.9561\n",
      "Epoch 18/20\n",
      "455/455 [==============================] - 0s 73us/step - loss: 0.0788 - accuracy: 0.9824 - val_loss: 0.1019 - val_accuracy: 0.9561\n",
      "Epoch 19/20\n",
      "455/455 [==============================] - 0s 77us/step - loss: 0.0750 - accuracy: 0.9846 - val_loss: 0.0993 - val_accuracy: 0.9561\n",
      "Epoch 20/20\n",
      "455/455 [==============================] - 0s 85us/step - loss: 0.0717 - accuracy: 0.9846 - val_loss: 0.0975 - val_accuracy: 0.9561\n"
     ]
    },
    {
     "data": {
      "text/plain": [
       "<keras.callbacks.callbacks.History at 0x1a36634450>"
      ]
     },
     "execution_count": 12,
     "metadata": {},
     "output_type": "execute_result"
    }
   ],
   "source": [
    "model.fit(x_train, y_train, epochs=20, batch_size = 50, validation_data=(x_test, y_test))\n",
    "# Epoch is number iteration by default it is 1.\n",
    "# Batch_size by default it is 32."
   ]
  },
  {
   "cell_type": "code",
   "execution_count": 14,
   "metadata": {},
   "outputs": [
    {
     "name": "stdout",
     "output_type": "stream",
     "text": [
      "114/114 [==============================] - 0s 142us/step\n"
     ]
    },
    {
     "data": {
      "text/plain": [
       "[0.09752649722392098, 0.9561403393745422]"
      ]
     },
     "execution_count": 14,
     "metadata": {},
     "output_type": "execute_result"
    }
   ],
   "source": [
    "# step 5\n",
    "# Prediction\n",
    "# Evaluate\n",
    "pred = model.predict(x_test)\n",
    "score = model.evaluate(x_test, y_test)\n",
    "# It is very similar to score that we have used in case of sklearn\n",
    "score\n",
    "# This will give you loss and score\n",
    "# It will show same matrices as we find in case of compile "
   ]
  },
  {
   "cell_type": "code",
   "execution_count": null,
   "metadata": {},
   "outputs": [],
   "source": []
  }
 ],
 "metadata": {
  "kernelspec": {
   "display_name": "Python 3",
   "language": "python",
   "name": "python3"
  },
  "language_info": {
   "codemirror_mode": {
    "name": "ipython",
    "version": 3
   },
   "file_extension": ".py",
   "mimetype": "text/x-python",
   "name": "python",
   "nbconvert_exporter": "python",
   "pygments_lexer": "ipython3",
   "version": "3.7.6"
  }
 },
 "nbformat": 4,
 "nbformat_minor": 4
}
